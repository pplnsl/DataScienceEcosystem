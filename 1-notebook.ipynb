{
 "cells": [
  {
   "cell_type": "markdown",
   "id": "f21a1c2a",
   "metadata": {},
   "source": [
    "# Data Science Tools and Ecosystem"
   ]
  },
  {
   "cell_type": "markdown",
   "id": "ef26a212",
   "metadata": {},
   "source": [
    "### In this notebook, Data Science Tools and Ecosystem are summarized."
   ]
  },
  {
   "cell_type": "markdown",
   "id": "c097f2ac",
   "metadata": {},
   "source": [
    "### Some of the popular languages that Data Scientists use are:\n",
    "* Python\n",
    "* SQL\n",
    "* R\n",
    "* Julia\n",
    "* JavaScript\n",
    "* Scala\n",
    "*  C++\n",
    "\n",
    "### Some of the commonly used libraries used by Data Scientists include:\n",
    "* TensorFlow\n",
    "* NumPy\n",
    "* SciPy \n",
    "* Pandas\n",
    "* Matplotlib \n",
    "* Keras\n",
    "* SciKit-Learn\n",
    "* PyTorch\n",
    "\n",
    " | Data Science Tools |\n",
    " -------------------------\n",
    "  | Jupyter Notebook    |\n",
    "  | Rstudio             |\n",
    "  | Apache Hadoop       |  \n"
   ]
  },
  {
   "cell_type": "markdown",
   "id": "14e6fa5f",
   "metadata": {},
   "source": [
    "### Below are a few examples of evaluating arithmetic expressions in Python."
   ]
  },
  {
   "cell_type": "code",
   "execution_count": 2,
   "id": "38b62864",
   "metadata": {},
   "outputs": [
    {
     "data": {
      "text/plain": [
       "17"
      ]
     },
     "execution_count": 2,
     "metadata": {},
     "output_type": "execute_result"
    }
   ],
   "source": [
    "# This a simple arithmetic expression to multiply then add integers\n",
    "(3*4)+5\n"
   ]
  },
  {
   "cell_type": "code",
   "execution_count": 10,
   "id": "991b2a74",
   "metadata": {},
   "outputs": [
    {
     "name": "stdout",
     "output_type": "stream",
     "text": [
      "3 h 20 min\n"
     ]
    }
   ],
   "source": [
    "# This will convert 200 minutes to hours by diving by 60\n",
    "minutes = 200\n",
    "hours = minutes // 60 # Get the whole number\n",
    "r_minutes = minutes % 60 # Get remainig minutes\n",
    "print(f\"{hours} h {r_minutes} min\")"
   ]
  },
  {
   "cell_type": "markdown",
   "id": "61aaa86d",
   "metadata": {},
   "source": [
    "# Objectives:\n",
    "\n",
    "* Common programming languages for Data Science\n",
    "* Common tools for Data Science\n",
    "* Work with Jupyter Notebook\n",
    "* Arithmetic calculations with Python\n",
    "* Markdown syntax"
   ]
  },
  {
   "cell_type": "markdown",
   "id": "9eeaff7e",
   "metadata": {},
   "source": [
    "## Author: Polina Solodrai"
   ]
  },
  {
   "cell_type": "code",
   "execution_count": null,
   "id": "d8d995bc",
   "metadata": {},
   "outputs": [],
   "source": []
  }
 ],
 "metadata": {
  "kernelspec": {
   "display_name": "Python 3 (ipykernel)",
   "language": "python",
   "name": "python3"
  },
  "language_info": {
   "codemirror_mode": {
    "name": "ipython",
    "version": 3
   },
   "file_extension": ".py",
   "mimetype": "text/x-python",
   "name": "python",
   "nbconvert_exporter": "python",
   "pygments_lexer": "ipython3",
   "version": "3.11.5"
  }
 },
 "nbformat": 4,
 "nbformat_minor": 5
}
